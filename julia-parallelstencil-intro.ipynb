{
 "cells": [
  {
   "cell_type": "markdown",
   "source": [
    "# Parallel high-performance stencil computations on xPUs\n",
    "\n",
    "Ludovic Räss\n",
    "\n",
    "_ETH Zurich_"
   ],
   "metadata": {
    "name": "A slide ",
    "slideshow": {
     "slide_type": "slide"
    }
   }
  },
  {
   "cell_type": "markdown",
   "source": [
    "\n",
    "_supported by_\n",
    "\n",
    "Sam Omlin, Ivan Utkin, Mauro Werder"
   ],
   "metadata": {
    "name": "A slide ",
    "slideshow": {
     "slide_type": "fragment"
    }
   }
  },
  {
   "cell_type": "markdown",
   "source": [
    "## Why to solve PDEs on xPUs ... or GPUs\n",
    "\n",
    "![gpu](./figures/gpu.png)"
   ],
   "metadata": {
    "name": "A slide ",
    "slideshow": {
     "slide_type": "slide"
    }
   }
  },
  {
   "cell_type": "markdown",
   "source": [
    "### A brief intro about GPU computing:\n",
    "- Why we do it\n",
    "- Why it is cool (in Julia)"
   ],
   "metadata": {
    "name": "A slide ",
    "slideshow": {
     "slide_type": "fragment"
    }
   }
  },
  {
   "cell_type": "markdown",
   "source": [
    "### Why we do it"
   ],
   "metadata": {
    "name": "A slide ",
    "slideshow": {
     "slide_type": "slide"
    }
   }
  },
  {
   "cell_type": "markdown",
   "source": [
    "Predict the evolution of natural and engineered systems\n",
    "- e.g. ice cap evolution, stress distribution, etc...\n",
    "\n",
    "![ice2](./figures/ice2.png)"
   ],
   "metadata": {
    "name": "A slide ",
    "slideshow": {
     "slide_type": "fragment"
    }
   }
  },
  {
   "cell_type": "markdown",
   "source": [
    "Physical processes that describe those systems are **complex** and often **nonlinear**\n",
    "- no or very limited analytical solution is available\n",
    "\n",
    "👉 a numerical approach is required to solve the mathematical model"
   ],
   "metadata": {
    "name": "A slide ",
    "slideshow": {
     "slide_type": "slide"
    }
   }
  },
  {
   "cell_type": "markdown",
   "source": [
    "Solving PDEs is computationally demanding\n",
    "- ODEs - scalar equations\n",
    "\n",
    "$$ \\frac{∂C}{∂t} = -\\frac{(C-C_{eq})}{ξ} $$\n",
    "\n",
    "but..."
   ],
   "metadata": {
    "name": "A slide ",
    "slideshow": {
     "slide_type": "slide"
    }
   }
  },
  {
   "cell_type": "markdown",
   "source": [
    "- PDEs - involve vectors (and tensors)  👉 local gradients & neighbours\n",
    "\n",
    "$$ \\frac{∂C}{∂t} = D~ \\left(\\frac{∂^2C}{∂x^2} + \\frac{∂^2C}{∂y^2} \\right) $$"
   ],
   "metadata": {
    "name": "A slide ",
    "slideshow": {
     "slide_type": "fragment"
    }
   }
  },
  {
   "cell_type": "markdown",
   "source": [
    "Computational costs increase\n",
    "- with complexity (e.g. multi-physics, couplings)\n",
    "- with dimensions (3D tensors...)\n",
    "- upon refining spatial and temporal resolution"
   ],
   "metadata": {
    "name": "A slide ",
    "slideshow": {
     "slide_type": "slide"
    }
   }
  },
  {
   "cell_type": "markdown",
   "source": [
    "![Stokes2D_vep](./figures/Stokes2D_vep.gif)"
   ],
   "metadata": {
    "name": "A slide ",
    "slideshow": {
     "slide_type": "fragment"
    }
   }
  },
  {
   "cell_type": "markdown",
   "source": [
    "Use **parallel computing** (to address this):\n",
    "- The \"memory wall\" in ~ 2004\n",
    "- Single-core to multi-core devices\n",
    "\n",
    "![mem_wall](./figures/mem_wall.png)"
   ],
   "metadata": {
    "name": "A slide ",
    "slideshow": {
     "slide_type": "slide"
    }
   }
  },
  {
   "cell_type": "markdown",
   "source": [
    "GPUs are massively parallel devices\n",
    "- SIMD machine (programmed using threads - SPMD) ([more](https://safari.ethz.ch/architecture/fall2020/lib/exe/fetch.php?media=onur-comparch-fall2020-lecture24-simdandgpu-afterlecture.pdf))\n",
    "- Further increases the Flop vs Bytes gap\n",
    "\n",
    "![cpu_gpu_evo](./figures/cpu_gpu_evo.png)"
   ],
   "metadata": {
    "name": "A slide ",
    "slideshow": {
     "slide_type": "slide"
    }
   }
  },
  {
   "cell_type": "markdown",
   "source": [
    "Taking a look at a recent GPU and CPU:\n",
    "- Nvidia Tesla A100 GPU\n",
    "- AMD EPYC \"Rome\" 7282 (16 cores) CPU\n",
    "\n",
    "| Device         | TFLOP/s (FP64) | Memory BW TB/s |\n",
    "| :------------: | :------------: | :------------: |\n",
    "| Tesla A100     | 9.7            | 1.55           |\n",
    "| AMD EPYC 7282  | 0.7            | 0.085          |"
   ],
   "metadata": {
    "name": "A slide ",
    "slideshow": {
     "slide_type": "slide"
    }
   }
  },
  {
   "cell_type": "markdown",
   "source": [
    "Current GPUs (and CPUs) can do many more computations in a given amount of time than they can access numbers from main memory."
   ],
   "metadata": {
    "name": "A slide ",
    "slideshow": {
     "slide_type": "fragment"
    }
   }
  },
  {
   "cell_type": "markdown",
   "source": [
    "Quantify the imbalance:\n",
    "\n",
    "$$ \\frac{\\mathrm{computation\\;peak\\;performance\\;[TFLOP/s]}}{\\mathrm{memory\\;access\\;peak\\;performance\\;[TB/s]}} × \\mathrm{size\\;of\\;a\\;number\\;[Bytes]} $$"
   ],
   "metadata": {
    "name": "A slide ",
    "slideshow": {
     "slide_type": "slide"
    }
   }
  },
  {
   "cell_type": "markdown",
   "source": [
    "_(Theoretical peak performance values as specified by the vendors can be used)._"
   ],
   "metadata": {
    "name": "A slide ",
    "slideshow": {
     "slide_type": "fragment"
    }
   }
  },
  {
   "cell_type": "markdown",
   "source": [
    "Back to our hardware:\n",
    "\n",
    "| Device         | TFLOP/s (FP64) | Memory BW TB/s | Imbalance (FP64)     |\n",
    "| :------------: | :------------: | :------------: | :------------------: |\n",
    "| Tesla A100     | 9.7            | 1.55           | 9.7 / 1.55  × 8 = 50 |\n",
    "| AMD EPYC 7282  | 0.7            | 0.085          | 0.7 / 0.085 × 8 = 66 |\n",
    "\n",
    "\n",
    "_(here computed with double precision values)_"
   ],
   "metadata": {
    "name": "A slide ",
    "slideshow": {
     "slide_type": "slide"
    }
   }
  },
  {
   "cell_type": "markdown",
   "source": [
    "**Meaning:** we can do 50 (GPU) and 66 (CPU) floating point operations per number accessed from main memory. Floating point operations are \"for free\" when we work in memory-bounded regimes\n",
    "\n",
    "👉 Requires to re-think the numerical implementation and solution strategies"
   ],
   "metadata": {
    "name": "A slide ",
    "slideshow": {
     "slide_type": "fragment"
    }
   }
  },
  {
   "cell_type": "markdown",
   "source": [
    "### On the scientific application side\n",
    "\n",
    "- Most algorithms require only a few operations or flops ...\n",
    "- ... compared to the amount of numbers or bytes accessed from main memory."
   ],
   "metadata": {
    "name": "A slide ",
    "slideshow": {
     "slide_type": "slide"
    }
   }
  },
  {
   "cell_type": "markdown",
   "source": [
    "First derivative example $∂A / ∂x$:"
   ],
   "metadata": {
    "name": "A slide ",
    "slideshow": {
     "slide_type": "fragment"
    }
   }
  },
  {
   "cell_type": "markdown",
   "source": [
    "If we \"naively\" compare the \"cost\" of an isolated evaluation of a finite-difference first derivative, e.g., computing a flux $q$:\n",
    "\n",
    "$$q = -D~\\frac{∂A}{∂x}~,$$\n",
    "\n",
    "which in the discrete form reads `q[ix] = -D*(A[ix+1]-A[ix])/dx`."
   ],
   "metadata": {
    "name": "A slide ",
    "slideshow": {
     "slide_type": "slide"
    }
   }
  },
  {
   "cell_type": "markdown",
   "source": [
    "The cost of evaluating `q[ix] = -D*(A[ix+1]-A[ix])/dx`:\n",
    "\n",
    "1 reads + 1 write => $2 × 8$ = **16 Bytes transferred**\n",
    "\n",
    "1 (fused) addition and division => **1 floating point operations**"
   ],
   "metadata": {
    "name": "A slide ",
    "slideshow": {
     "slide_type": "slide"
    }
   }
  },
  {
   "cell_type": "markdown",
   "source": [
    "assuming:\n",
    "- $D$, $∂x$ are scalars\n",
    "- $q$ and $A$ are arrays of `Float64` (read from main memory)"
   ],
   "metadata": {
    "name": "A slide ",
    "slideshow": {
     "slide_type": "fragment"
    }
   }
  },
  {
   "cell_type": "markdown",
   "source": [
    "GPUs and CPUs perform 50 - 60 FLOP pro number accessed from main memory\n",
    "\n",
    "First derivative evaluation requires to transfer 2 numbers per FLOP"
   ],
   "metadata": {
    "name": "A slide ",
    "slideshow": {
     "slide_type": "slide"
    }
   }
  },
  {
   "cell_type": "markdown",
   "source": [
    "The FLOP/s metric is no longer the most adequate for reporting the application performance of many modern applications on modern hardware."
   ],
   "metadata": {
    "name": "A slide ",
    "slideshow": {
     "slide_type": "fragment"
    }
   }
  },
  {
   "cell_type": "markdown",
   "source": [
    "### Effective memory throughput metric $T_\\mathrm{eff}$\n",
    "\n",
    "Need for a memory throughput-based performance evaluation metric: $T_\\mathrm{eff}$ [GB/s]\n",
    "\n",
    "➡ Evaluate the performance of iterative stencil-based solvers."
   ],
   "metadata": {
    "name": "A slide ",
    "slideshow": {
     "slide_type": "slide"
    }
   }
  },
  {
   "cell_type": "markdown",
   "source": [
    "The effective memory access $A_\\mathrm{eff}$ [GB]\n",
    "\n",
    "Sum of:\n",
    "- twice the memory footprint of the unknown fields, $D_\\mathrm{u}$, (fields that depend on their own history and that need to be updated every iteration)\n",
    "- known fields, $D_\\mathrm{k}$, that do not change every iteration."
   ],
   "metadata": {
    "name": "A slide ",
    "slideshow": {
     "slide_type": "slide"
    }
   }
  },
  {
   "cell_type": "markdown",
   "source": [
    "The effective memory access divided by the execution time per iteration, $t_\\mathrm{it}$ [sec], defines the effective memory throughput, $T_\\mathrm{eff}$ [GB/s]:\n",
    "\n",
    "$$ A_\\mathrm{eff} = 2~D_\\mathrm{u} + D_\\mathrm{k} $$\n",
    "\n",
    "$$ T_\\mathrm{eff} = \\frac{A_\\mathrm{eff}}{t_\\mathrm{it}} $$"
   ],
   "metadata": {
    "name": "A slide ",
    "slideshow": {
     "slide_type": "fragment"
    }
   }
  },
  {
   "cell_type": "markdown",
   "source": [
    "The upper bound of $T_\\mathrm{eff}$ is $T_\\mathrm{peak}$ as measured, e.g., by [McCalpin, 1995](https://www.researchgate.net/publication/51992086_Memory_bandwidth_and_machine_balance_in_high_performance_computers) for CPUs or a GPU analogue.\n",
    "\n",
    "Defining the $T_\\mathrm{eff}$ metric, we assume that:\n",
    "1. we evaluate an iterative stencil-based solver,\n",
    "2. the problem size is much larger than the cache sizes and\n",
    "3. the usage of time blocking is not feasible or advantageous (reasonable for real-world applications)."
   ],
   "metadata": {
    "name": "A slide ",
    "slideshow": {
     "slide_type": "slide"
    }
   }
  },
  {
   "cell_type": "markdown",
   "source": [
    "> 💡 note: Fields within the effective memory access that do not depend on their own history; such fields can be re-computed on the fly or stored on-chip."
   ],
   "metadata": {}
  },
  {
   "cell_type": "markdown",
   "source": [
    "### Why it is cool"
   ],
   "metadata": {
    "name": "A slide ",
    "slideshow": {
     "slide_type": "slide"
    }
   }
  },
  {
   "cell_type": "markdown",
   "source": [
    "![julia-gpu](./figures/julia-gpu.png)"
   ],
   "metadata": {
    "name": "A slide ",
    "slideshow": {
     "slide_type": "fragment"
    }
   }
  },
  {
   "cell_type": "markdown",
   "source": [
    "#### GPU are cool\n",
    "Price vs Performance\n",
    "- Close to **1TB/s** memory throughput (here on nonlinear diffusion SIA)\n",
    "\n",
    "![perf_gpu](./figures/perf_gpu.png)\n",
    "\n",
    "_And one can get there_"
   ],
   "metadata": {
    "name": "A slide ",
    "slideshow": {
     "slide_type": "slide"
    }
   }
  },
  {
   "cell_type": "markdown",
   "source": [
    "Availability (less fight for resources)\n",
    "- Still not many applications run on GPUs\n",
    "\n",
    "Workstation turns into a personal Supercomputers\n",
    "- GPU vs CPUs peak memory bandwidth: theoretical 10x (practically maybe more)\n",
    "\n",
    "![titan_node](./figures/titan_node.jpg)"
   ],
   "metadata": {
    "name": "A slide ",
    "slideshow": {
     "slide_type": "slide"
    }
   }
  },
  {
   "cell_type": "markdown",
   "source": [
    "#### Julia is cool\n",
    "Solution to the \"two-language problem\"\n",
    "\n",
    "![two_lang](./figures/two_lang.png)\n",
    "\n",
    "Single code for prototyping and production"
   ],
   "metadata": {
    "name": "A slide ",
    "slideshow": {
     "slide_type": "slide"
    }
   }
  },
  {
   "cell_type": "markdown",
   "source": [
    "Backend agnostic:\n",
    "- Single code to run on single CPU or thousands of GPUs\n",
    "- Single code to run on various CPUs (x86, ARM, Power9, ...) \\\n",
    "  and GPUs (Nvidia, AMD, Intel?)\n",
    "\n",
    "Interactive:\n",
    "- No need for third-party visualisation software\n",
    "- Debugging and interactive REPL mode\n",
    "- Efficient for development"
   ],
   "metadata": {
    "name": "A slide ",
    "slideshow": {
     "slide_type": "slide"
    }
   }
  },
  {
   "cell_type": "markdown",
   "source": [
    "too good to be true?"
   ],
   "metadata": {
    "name": "A slide ",
    "slideshow": {
     "slide_type": "slide"
    }
   }
  },
  {
   "cell_type": "markdown",
   "source": [
    "![ParallelStencil](./figures/parallelstencil.png)"
   ],
   "metadata": {
    "name": "A slide ",
    "slideshow": {
     "slide_type": "fragment"
    }
   }
  },
  {
   "cell_type": "markdown",
   "source": [
    "[https://github.com/omlins/ParallelStencil.jl](https://github.com/omlins/ParallelStencil.jl)"
   ],
   "metadata": {
    "name": "A slide ",
    "slideshow": {
     "slide_type": "fragment"
    }
   }
  },
  {
   "cell_type": "markdown",
   "source": [
    "## Let's get started with a concise demo using [ParallelStencil.jl](https://github.com/omlins/ParallelStencil.jl)\n",
    "\n",
    "And solve the 2D heat diffusion."
   ],
   "metadata": {
    "name": "A slide ",
    "slideshow": {
     "slide_type": "slide"
    }
   }
  },
  {
   "cell_type": "markdown",
   "source": [
    "👉 We will now continue in the notebook you can freely access on GitHub at [https://github.com/luraess/julia-day-2022](https://github.com/luraess/julia-day-2022)"
   ],
   "metadata": {
    "name": "A slide ",
    "slideshow": {
     "slide_type": "fragment"
    }
   }
  },
  {
   "cell_type": "markdown",
   "source": [
    "## Setting up the environment\n",
    "\n",
    "In the notebook, activate the environment:"
   ],
   "metadata": {
    "name": "A slide ",
    "slideshow": {
     "slide_type": "slide"
    }
   }
  },
  {
   "outputs": [],
   "cell_type": "code",
   "source": [
    "using Pkg\n",
    "Pkg.activate(@__DIR__)\n",
    "Pkg.instantiate()\n",
    "Pkg.status()"
   ],
   "metadata": {},
   "execution_count": null
  },
  {
   "cell_type": "markdown",
   "source": [
    "And add the package(s) we will use"
   ],
   "metadata": {}
  },
  {
   "outputs": [],
   "cell_type": "code",
   "source": [
    "using Plots, CUDA, BenchmarkTools"
   ],
   "metadata": {},
   "execution_count": null
  },
  {
   "cell_type": "markdown",
   "source": [
    "## Solving the 2D heat diffusion\n",
    "\n",
    "$$ c \\frac{∂T}{∂t} = ∇⋅λ ∇T $$\n",
    "\n",
    "Let's implement an explicit diffusion solver using finite-differences and array programming together with broadcasting in \"plain\" Julia:"
   ],
   "metadata": {}
  },
  {
   "outputs": [],
   "cell_type": "code",
   "source": [
    "function diffusion2D()\n",
    "    # Physics\n",
    "    λ      = 1.0                                           # Thermal conductivity\n",
    "    c0     = 1.0                                           # Heat capacity\n",
    "    lx, ly = 10.0, 10.0                                    # Length of computational domain in dimension x and y\n",
    "    # Numerics\n",
    "    nx, ny = 32*2, 32*2                                    # Number of grid points in dimensions x and y\n",
    "    nt     = 100                                           # Number of time steps\n",
    "    dx, dy = lx/(nx-1), ly/(ny-1)                          # Space step in x and y-dimension\n",
    "    # Array initializations\n",
    "    T      = zeros(Float64,nx  ,ny  )                      # Temperature\n",
    "    Ci     = zeros(Float64,nx  ,ny  )                      # 1/Heat capacity\n",
    "    qTx    = zeros(Float64,nx-1,ny-2)                      # Heat flux in x-dim\n",
    "    qTy    = zeros(Float64,nx-2,ny-1)                      # Heat flux in y-dim\n",
    "    # Initial conditions\n",
    "    Ci    .= 1.0/c0                                        # 1/Heat capacity (could vary in space)\n",
    "    T     .= [exp(-(((ix-1)*dx-lx/2)/2)^2-(((iy-1)*dy-ly/2)/2)^2) for ix=1:size(T,1), iy=1:size(T,2)] # Initial Gaussian Temp\n",
    "    # Time loop\n",
    "    dt     = min(dx^2,dy^2)/λ/maximum(Ci)/4.1              # Time step for 2D Heat diffusion\n",
    "    opts   = (aspect_ratio=1,xlims=(1,nx),ylims=(1,ny),clims=(0.0,1.0),c=:turbo,xlabel=\"Lx\",ylabel=\"Ly\") # plotting options\n",
    "    @gif for it = 1:nt\n",
    "        qTx .= .-λ .* diff(T[:,2:end-1],dims=1)./dx\n",
    "        qTy .= .-λ .* diff(T[2:end-1,:],dims=2)./dy\n",
    "        T[2:end-1,2:end-1] .= T[2:end-1,2:end-1] .+ dt.*Ci[2:end-1,2:end-1].*(.-diff(qTx,dims=1)./dx .-diff(qTy,dims=2)./dy)\n",
    "        heatmap(Array(T)',title=\"it=$it\"; opts...)        # Visualization\n",
    "    end\n",
    "end"
   ],
   "metadata": {},
   "execution_count": null
  },
  {
   "outputs": [],
   "cell_type": "code",
   "source": [
    "diffusion2D()"
   ],
   "metadata": {},
   "execution_count": null
  },
  {
   "cell_type": "markdown",
   "source": [
    "The above example runs on CPU. What if we want to execute it on the GPU? In Julia, this is pretty simple as we can use the [CUDA.jl](https://github.com/JuliaGPU/CUDA.jl) package"
   ],
   "metadata": {}
  },
  {
   "outputs": [],
   "cell_type": "code",
   "source": [
    "using CUDA"
   ],
   "metadata": {},
   "execution_count": null
  },
  {
   "cell_type": "markdown",
   "source": [
    "and add the `CUDA` key to the array initialisation as following:"
   ],
   "metadata": {}
  },
  {
   "outputs": [],
   "cell_type": "code",
   "source": [
    "function diffusion2D()\n",
    "    # Physics\n",
    "    λ      = 1.0                                           # Thermal conductivity\n",
    "    c0     = 1.0                                           # Heat capacity\n",
    "    lx, ly = 10.0, 10.0                                    # Length of computational domain in dimension x and y\n",
    "    # Numerics\n",
    "    nx, ny = 32*2, 32*2                                    # Number of grid points in dimensions x and y\n",
    "    nt     = 100                                           # Number of time steps\n",
    "    dx, dy = lx/(nx-1), ly/(ny-1)                          # Space step in x and y-dimension\n",
    "    # Array initializations\n",
    "    T      = CUDA.zeros(Float64,nx  ,ny  )                 # Temperature\n",
    "    Ci     = CUDA.zeros(Float64,nx  ,ny  )                 # 1/Heat capacity\n",
    "    qTx    = CUDA.zeros(Float64,nx-1,ny-2)                 # Heat flux in x-dim\n",
    "    qTy    = CUDA.zeros(Float64,nx-2,ny-1)                 # Heat flux in y-dim\n",
    "    # Initial conditions\n",
    "    Ci    .= 1.0/c0                                        # 1/Heat capacity (could vary in space)\n",
    "    T     .= CuArray([exp(-(((ix-1)*dx-lx/2)/2)^2-(((iy-1)*dy-ly/2)/2)^2) for ix=1:size(T,1), iy=1:size(T,2)]) # Initial Gaussian Temp\n",
    "    # Time loop\n",
    "    dt     = min(dx^2,dy^2)/λ/maximum(Ci)/4.1              # Time step for 2D Heat diffusion\n",
    "    opts   = (aspect_ratio=1,xlims=(1,nx),ylims=(1,ny),clims=(0.0,1.0),c=:turbo,xlabel=\"Lx\",ylabel=\"Ly\") # plotting options\n",
    "    @gif for it = 1:nt\n",
    "        qTx .= .-λ .* diff(T[:,2:end-1],dims=1)./dx\n",
    "        qTy .= .-λ .* diff(T[2:end-1,:],dims=2)./dy\n",
    "        T[2:end-1,2:end-1] .= T[2:end-1,2:end-1] .+ dt.*Ci[2:end-1,2:end-1].*(.-diff(qTx,dims=1)./dx .-diff(qTy,dims=2)./dy)\n",
    "        heatmap(Array(T)',title=\"it=$it\"; opts...)        # Visualization\n",
    "    end\n",
    "end"
   ],
   "metadata": {},
   "execution_count": null
  },
  {
   "outputs": [],
   "cell_type": "code",
   "source": [
    "diffusion2D()"
   ],
   "metadata": {},
   "execution_count": null
  },
  {
   "cell_type": "markdown",
   "source": [
    "Nice, so it runs on the GPU now. But how much faster - what did we gain?\n",
    "\n",
    "### CPU array programming performance\n",
    "\n",
    "Let's determine the effective memory throughput $T_\\mathrm{eff}$. For this, we can isolate the physics computation into a function that we will use for benchmarking"
   ],
   "metadata": {}
  },
  {
   "outputs": [],
   "cell_type": "code",
   "source": [
    "function update_temperature!(T, qTx, qTy, Ci, λ, dt, dx, dy)\n",
    "    @inbounds qTx .= .-λ .* diff(T[:,2:end-1],dims=1)./dx\n",
    "    @inbounds qTy .= .-λ .* diff(T[2:end-1,:],dims=2)./dy\n",
    "    @inbounds T[2:end-1,2:end-1] .= T[2:end-1,2:end-1] .+ dt.*Ci[2:end-1,2:end-1].*(.-diff(qTx,dims=1)./dx .-diff(qTy,dims=2)./dy)\n",
    "    return\n",
    "end"
   ],
   "metadata": {},
   "execution_count": null
  },
  {
   "cell_type": "markdown",
   "source": [
    "Moreover, for benchmarking activities, we will require the following arrays and scalars and make sure to use sufficiently large arrays in order to saturate the memory bandwidth:"
   ],
   "metadata": {}
  },
  {
   "outputs": [],
   "cell_type": "code",
   "source": [
    "nx = ny = 512#*32\n",
    "T   = rand(Float64,nx  ,ny  )\n",
    "Ci  = rand(Float64,nx  ,ny  )\n",
    "qTx = rand(Float64,nx-1,ny-2)\n",
    "qTy = rand(Float64,nx-2,ny-1)\n",
    "λ = dx = dy = dt = rand();"
   ],
   "metadata": {},
   "execution_count": null
  },
  {
   "cell_type": "markdown",
   "source": [
    "And use `@belapsed` macro from [BenchmarTools](https://github.com/JuliaCI/BenchmarkTools.jl) to sample our perf:"
   ],
   "metadata": {}
  },
  {
   "outputs": [],
   "cell_type": "code",
   "source": [
    "t_it = @belapsed begin update_temperature!($T, $qTx, $qTy, $Ci, $λ, $dt, $dx, $dy); end\n",
    "T_eff_cpu_bcast = (2*1+1)*1/1e9*nx*ny*sizeof(Float64)/t_it\n",
    "println(\"T_eff = $(T_eff_cpu_bcast) GiB/s\")"
   ],
   "metadata": {},
   "execution_count": null
  },
  {
   "cell_type": "markdown",
   "source": [
    "### GPU array programming performance\n",
    "\n",
    "Let's repeat the experiment using the GPU"
   ],
   "metadata": {}
  },
  {
   "outputs": [],
   "cell_type": "code",
   "source": [
    "nx = ny = 512#*32\n",
    "T   = CUDA.rand(Float64,nx  ,ny  )\n",
    "Ci  = CUDA.rand(Float64,nx  ,ny  )\n",
    "qTx = CUDA.rand(Float64,nx-1,ny-2)\n",
    "qTy = CUDA.rand(Float64,nx-2,ny-1)\n",
    "λ = dx = dy = dt = rand();"
   ],
   "metadata": {},
   "execution_count": null
  },
  {
   "cell_type": "markdown",
   "source": [
    "And sample again our perf on the GPU this time:"
   ],
   "metadata": {}
  },
  {
   "outputs": [],
   "cell_type": "code",
   "source": [
    "t_it = @belapsed begin update_temperature!($T, $qTx, $qTy, $Ci, $λ, $dt, $dx, $dy); end\n",
    "T_eff_gpu_bcast = (2*1+1)*1/1e9*nx*ny*sizeof(Float64)/t_it\n",
    "println(\"T_eff = $(T_eff_gpu_bcast) GiB/s\")"
   ],
   "metadata": {},
   "execution_count": null
  },
  {
   "cell_type": "markdown",
   "source": [
    "Some blabla about perf.\n",
    "\n",
    "## Using ParallelStencil\n",
    "\n",
    "Finite difference module and `CUDA` \"backend\"."
   ],
   "metadata": {}
  },
  {
   "outputs": [],
   "cell_type": "code",
   "source": [
    "using ParallelStencil\n",
    "using ParallelStencil.FiniteDifferences2D\n",
    "@init_parallel_stencil(Threads, Float64, 2)\n",
    "# @init_parallel_stencil(CUDA, Float64, 2)\n",
    "nx = ny = 512#*32\n",
    "T   = @rand(nx  ,ny  )\n",
    "Ci  = @rand(nx  ,ny  )\n",
    "qTx = @rand(nx-1,ny-2)\n",
    "qTy = @rand(nx-2,ny-1)\n",
    "λ = dx = dy = dt = rand();"
   ],
   "metadata": {},
   "execution_count": null
  },
  {
   "cell_type": "markdown",
   "source": [
    "Using math-close notations from the FD module:"
   ],
   "metadata": {}
  },
  {
   "outputs": [],
   "cell_type": "code",
   "source": [
    "@parallel function update_temperature_ps!(T, qTx, qTy, Ci, λ, dt, dx, dy)\n",
    "    @all(qTx) = -λ * @d_xi(T)/dx\n",
    "    @all(qTy) = -λ * @d_yi(T)/dy\n",
    "    @inn(T)   = @inn(T) + dt*@inn(Ci)*(-@d_xa(qTx)/dx -@d_ya(qTy)/dy)\n",
    "    return\n",
    "end"
   ],
   "metadata": {},
   "execution_count": null
  },
  {
   "cell_type": "markdown",
   "source": [
    "And sample again our perf on the GPU using ParallelStencil this time:"
   ],
   "metadata": {}
  },
  {
   "outputs": [],
   "cell_type": "code",
   "source": [
    "t_it = @belapsed begin @parallel update_temperature_ps!($T, $qTx, $qTy, $Ci, $λ, $dt, $dx, $dy); end\n",
    "T_eff_ps = (2*1+1)*1/1e9*nx*ny*sizeof(Float64)/t_it\n",
    "println(\"T_eff = $(T_eff_ps) GiB/s\")"
   ],
   "metadata": {},
   "execution_count": null
  },
  {
   "cell_type": "markdown",
   "source": [
    "It's better, but we can do more in order to approach the peak memory bandwidth of the GPU\n",
    "Removing the convenience arrays `qTx`, `qTy`:"
   ],
   "metadata": {}
  },
  {
   "outputs": [],
   "cell_type": "code",
   "source": [
    "T2 = copy(T)\n",
    "macro qTx(ix,iy)  esc(:( -λ*(T[$ix+1,$iy+1] - T[$ix,$iy+1])/dx )) end\n",
    "macro qTy(ix,iy)  esc(:( -λ*(T[$ix+1,$iy+1] - T[$ix+1,$iy])/dy )) end\n",
    "@parallel_indices (ix,iy) function update_temperature_psind!(T2, T, Ci, λ, dt, dx, dy)\n",
    "    nx, ny = size(T2)\n",
    "    if (ix>1 && ix<nx && iy>1 && iy<ny)\n",
    "        @inbounds T2[ix+1,iy+1] = T[ix+1,iy+1] + dt*Ci[ix,iy]*( -(@qTx(ix+1,iy) - @qTx(ix,iy))/dx -(@qTy(ix,iy+1) - @qTy(ix,iy))/dy )\n",
    "    end\n",
    "    return\n",
    "end"
   ],
   "metadata": {},
   "execution_count": null
  },
  {
   "cell_type": "markdown",
   "source": [
    "And sample again our perf on the GPU using `parallel_indices` this time:"
   ],
   "metadata": {}
  },
  {
   "outputs": [],
   "cell_type": "code",
   "source": [
    "t_it = @belapsed begin @parallel update_temperature_psind!($T2, $T, $Ci, $λ, $dt, $dx, $dy); end\n",
    "T_eff_psind = (2*1+1)*1/1e9*nx*ny*sizeof(Float64)/t_it\n",
    "println(\"T_eff = $(T_eff_psind) GiB/s\")"
   ],
   "metadata": {},
   "execution_count": null
  }
 ],
 "nbformat_minor": 3,
 "metadata": {
  "language_info": {
   "file_extension": ".jl",
   "mimetype": "application/julia",
   "name": "julia",
   "version": "1.7.2"
  },
  "kernelspec": {
   "name": "julia-1.7",
   "display_name": "Julia 1.7.2",
   "language": "julia"
  }
 },
 "nbformat": 4
}
