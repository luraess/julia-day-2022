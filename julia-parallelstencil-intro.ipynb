{
 "cells": [
  {
   "cell_type": "markdown",
   "source": [
    "# Parallel high-performance stencil computations on xPUs\n",
    "\n",
    "Ludovic Räss\n",
    "\n",
    "_ETH Zurich_"
   ],
   "metadata": {
    "name": "A slide ",
    "slideshow": {
     "slide_type": "slide"
    }
   }
  },
  {
   "cell_type": "markdown",
   "source": [
    "\n",
    "_supported by_\n",
    "\n",
    "Sam Omlin, Ivan Utkin, Mauro Werder"
   ],
   "metadata": {
    "name": "A slide ",
    "slideshow": {
     "slide_type": "fragment"
    }
   }
  },
  {
   "cell_type": "markdown",
   "source": [
    "## Why to solve PDEs on xPUs ... or GPUs\n",
    "\n",
    "![gpu](./figures/gpu.png)"
   ],
   "metadata": {
    "name": "A slide ",
    "slideshow": {
     "slide_type": "slide"
    }
   }
  },
  {
   "cell_type": "markdown",
   "source": [
    "### A brief intro about GPU computing:\n",
    "- Why we do it\n",
    "- Why it is cool (in Julia)"
   ],
   "metadata": {
    "name": "A slide ",
    "slideshow": {
     "slide_type": "fragment"
    }
   }
  },
  {
   "cell_type": "markdown",
   "source": [
    "### Why we do it"
   ],
   "metadata": {
    "name": "A slide ",
    "slideshow": {
     "slide_type": "slide"
    }
   }
  },
  {
   "cell_type": "markdown",
   "source": [
    "Predict the evolution of natural and engineered systems\n",
    "- e.g. ice cap evolution, stress distribution, etc...\n",
    "\n",
    "![ice2](./figures/ice2.png)"
   ],
   "metadata": {
    "name": "A slide ",
    "slideshow": {
     "slide_type": "fragment"
    }
   }
  },
  {
   "cell_type": "markdown",
   "source": [
    "Physical processes that describe those systems are **complex** and often **nonlinear**\n",
    "- no or very limited analytical solution is available\n",
    "\n",
    "👉 a numerical approach is required to solve the mathematical model"
   ],
   "metadata": {
    "name": "A slide ",
    "slideshow": {
     "slide_type": "slide"
    }
   }
  },
  {
   "cell_type": "markdown",
   "source": [
    "Solving PDEs is computationally demanding\n",
    "- ODEs - scalar equations\n",
    "\n",
    "$$ \\frac{∂C}{∂t} = -\\frac{(C-C_{eq})}{ξ} $$\n",
    "\n",
    "but..."
   ],
   "metadata": {
    "name": "A slide ",
    "slideshow": {
     "slide_type": "slide"
    }
   }
  },
  {
   "cell_type": "markdown",
   "source": [
    "- PDEs - involve vectors (and tensors)  👉 local gradients & neighbours\n",
    "\n",
    "$$ \\frac{∂C}{∂t} = D~ \\left(\\frac{∂^2C}{∂x^2} + \\frac{∂^2C}{∂y^2} \\right) $$"
   ],
   "metadata": {
    "name": "A slide ",
    "slideshow": {
     "slide_type": "fragment"
    }
   }
  },
  {
   "cell_type": "markdown",
   "source": [
    "Computational costs increase\n",
    "- with complexity (e.g. multi-physics, couplings)\n",
    "- with dimensions (3D tensors...)\n",
    "- upon refining spatial and temporal resolution"
   ],
   "metadata": {
    "name": "A slide ",
    "slideshow": {
     "slide_type": "slide"
    }
   }
  },
  {
   "cell_type": "markdown",
   "source": [
    "![Stokes2D_vep](./figures/Stokes2D_vep.gif)"
   ],
   "metadata": {
    "name": "A slide ",
    "slideshow": {
     "slide_type": "fragment"
    }
   }
  },
  {
   "cell_type": "markdown",
   "source": [
    "Use **parallel computing** (to address this):\n",
    "- The \"memory wall\" in ~ 2004\n",
    "- Single-core to multi-core devices\n",
    "\n",
    "![mem_wall](./figures/mem_wall.png)"
   ],
   "metadata": {
    "name": "A slide ",
    "slideshow": {
     "slide_type": "slide"
    }
   }
  },
  {
   "cell_type": "markdown",
   "source": [
    "GPUs are massively parallel devices\n",
    "- SIMD machine (programmed using threads - SPMD) ([more](https://safari.ethz.ch/architecture/fall2020/lib/exe/fetch.php?media=onur-comparch-fall2020-lecture24-simdandgpu-afterlecture.pdf))\n",
    "- Further increases the Flop vs Bytes gap\n",
    "\n",
    "![cpu_gpu_evo](./figures/cpu_gpu_evo.png)"
   ],
   "metadata": {
    "name": "A slide ",
    "slideshow": {
     "slide_type": "slide"
    }
   }
  },
  {
   "cell_type": "markdown",
   "source": [
    "Taking a look at a recent GPU and CPU:\n",
    "- Nvidia Tesla A100 GPU\n",
    "- AMD EPYC \"Rome\" 7282 (16 cores) CPU\n",
    "\n",
    "| Device         | TFLOP/s (FP64) | Memory BW TB/s |\n",
    "| :------------: | :------------: | :------------: |\n",
    "| Tesla A100     | 9.7            | 1.55           |\n",
    "| AMD EPYC 7282  | 0.7            | 0.085          |"
   ],
   "metadata": {
    "name": "A slide ",
    "slideshow": {
     "slide_type": "slide"
    }
   }
  },
  {
   "cell_type": "markdown",
   "source": [
    "Current GPUs (and CPUs) can do many more computations in a given amount of time than they can access numbers from main memory."
   ],
   "metadata": {
    "name": "A slide ",
    "slideshow": {
     "slide_type": "fragment"
    }
   }
  },
  {
   "cell_type": "markdown",
   "source": [
    "Quantify the imbalance:\n",
    "\n",
    "$$ \\frac{\\mathrm{computation\\;peak\\;performance\\;[TFLOP/s]}}{\\mathrm{memory\\;access\\;peak\\;performance\\;[TB/s]}} × \\mathrm{size\\;of\\;a\\;number\\;[Bytes]} $$"
   ],
   "metadata": {
    "name": "A slide ",
    "slideshow": {
     "slide_type": "slide"
    }
   }
  },
  {
   "cell_type": "markdown",
   "source": [
    "_(Theoretical peak performance values as specified by the vendors can be used)._"
   ],
   "metadata": {
    "name": "A slide ",
    "slideshow": {
     "slide_type": "fragment"
    }
   }
  },
  {
   "cell_type": "markdown",
   "source": [
    "Back to our hardware:\n",
    "\n",
    "| Device         | TFLOP/s (FP64) | Memory BW TB/s | Imbalance (FP64)     |\n",
    "| :------------: | :------------: | :------------: | :------------------: |\n",
    "| Tesla A100     | 9.7            | 1.55           | 9.7 / 1.55  × 8 = 50 |\n",
    "| AMD EPYC 7282  | 0.7            | 0.085          | 0.7 / 0.085 × 8 = 66 |\n",
    "\n",
    "\n",
    "_(here computed with double precision values)_"
   ],
   "metadata": {
    "name": "A slide ",
    "slideshow": {
     "slide_type": "slide"
    }
   }
  },
  {
   "cell_type": "markdown",
   "source": [
    "**Meaning:** we can do 50 (GPU) and 66 (CPU) floating point operations per number accessed from main memory. Floating point operations are \"for free\" when we work in memory-bounded regimes\n",
    "\n",
    "👉 Requires to re-think the numerical implementation and solution strategies"
   ],
   "metadata": {
    "name": "A slide ",
    "slideshow": {
     "slide_type": "fragment"
    }
   }
  },
  {
   "cell_type": "markdown",
   "source": [
    "### On the scientific application side\n",
    "\n",
    "- Most algorithms require only a few operations or flops ...\n",
    "- ... compared to the amount of numbers or bytes accessed from main memory."
   ],
   "metadata": {
    "name": "A slide ",
    "slideshow": {
     "slide_type": "slide"
    }
   }
  },
  {
   "cell_type": "markdown",
   "source": [
    "First derivative example $∂A / ∂x$:"
   ],
   "metadata": {
    "name": "A slide ",
    "slideshow": {
     "slide_type": "fragment"
    }
   }
  },
  {
   "cell_type": "markdown",
   "source": [
    "If we \"naively\" compare the \"cost\" of an isolated evaluation of a finite-difference first derivative, e.g., computing a flux $q$:\n",
    "\n",
    "$$q = -D~\\frac{∂A}{∂x}~,$$\n",
    "\n",
    "which in the discrete form reads `q[ix] = -D*(A[ix+1]-A[ix])/dx`."
   ],
   "metadata": {
    "name": "A slide ",
    "slideshow": {
     "slide_type": "slide"
    }
   }
  },
  {
   "cell_type": "markdown",
   "source": [
    "The cost of evaluating `q[ix] = -D*(A[ix+1]-A[ix])/dx`:\n",
    "\n",
    "1 reads + 1 write => $2 × 8$ = **16 Bytes transferred**\n",
    "\n",
    "1 (fused) addition and division => **1 floating point operations**"
   ],
   "metadata": {
    "name": "A slide ",
    "slideshow": {
     "slide_type": "slide"
    }
   }
  },
  {
   "cell_type": "markdown",
   "source": [
    "assuming:\n",
    "- $D$, $∂x$ are scalars\n",
    "- $q$ and $A$ are arrays of `Float64` (read from main memory)"
   ],
   "metadata": {
    "name": "A slide ",
    "slideshow": {
     "slide_type": "fragment"
    }
   }
  },
  {
   "cell_type": "markdown",
   "source": [
    "GPUs and CPUs perform 50 - 60 FLOP pro number accessed from main memory\n",
    "\n",
    "First derivative evaluation requires to transfer 2 numbers per FLOP"
   ],
   "metadata": {
    "name": "A slide ",
    "slideshow": {
     "slide_type": "slide"
    }
   }
  },
  {
   "cell_type": "markdown",
   "source": [
    "The FLOP/s metric is no longer the most adequate for reporting the application performance of many modern applications on modern hardware."
   ],
   "metadata": {
    "name": "A slide ",
    "slideshow": {
     "slide_type": "fragment"
    }
   }
  },
  {
   "cell_type": "markdown",
   "source": [
    "### Effective memory throughput metric $T_\\mathrm{eff}$\n",
    "\n",
    "Need for a memory throughput-based performance evaluation metric: $T_\\mathrm{eff}$ [GB/s]\n",
    "\n",
    "➡ Evaluate the performance of iterative stencil-based solvers."
   ],
   "metadata": {
    "name": "A slide ",
    "slideshow": {
     "slide_type": "slide"
    }
   }
  },
  {
   "cell_type": "markdown",
   "source": [
    "The effective memory access $A_\\mathrm{eff}$ [GB]\n",
    "\n",
    "Sum of:\n",
    "- twice the memory footprint of the unknown fields, $D_\\mathrm{u}$, (fields that depend on their own history and that need to be updated every iteration)\n",
    "- known fields, $D_\\mathrm{k}$, that do not change every iteration."
   ],
   "metadata": {
    "name": "A slide ",
    "slideshow": {
     "slide_type": "slide"
    }
   }
  },
  {
   "cell_type": "markdown",
   "source": [
    "The effective memory access divided by the execution time per iteration, $t_\\mathrm{it}$ [sec], defines the effective memory throughput, $T_\\mathrm{eff}$ [GB/s]:\n",
    "\n",
    "$$ A_\\mathrm{eff} = 2~D_\\mathrm{u} + D_\\mathrm{k} $$\n",
    "\n",
    "$$ T_\\mathrm{eff} = \\frac{A_\\mathrm{eff}}{t_\\mathrm{it}} $$"
   ],
   "metadata": {
    "name": "A slide ",
    "slideshow": {
     "slide_type": "fragment"
    }
   }
  },
  {
   "cell_type": "markdown",
   "source": [
    "The upper bound of $T_\\mathrm{eff}$ is $T_\\mathrm{peak}$ as measured, e.g., by [McCalpin, 1995](https://www.researchgate.net/publication/51992086_Memory_bandwidth_and_machine_balance_in_high_performance_computers) for CPUs or a GPU analogue.\n",
    "\n",
    "Defining the $T_\\mathrm{eff}$ metric, we assume that:\n",
    "1. we evaluate an iterative stencil-based solver,\n",
    "2. the problem size is much larger than the cache sizes and\n",
    "3. the usage of time blocking is not feasible or advantageous (reasonable for real-world applications)."
   ],
   "metadata": {
    "name": "A slide ",
    "slideshow": {
     "slide_type": "slide"
    }
   }
  },
  {
   "cell_type": "markdown",
   "source": [
    "> 💡 note: Fields within the effective memory access that do not depend on their own history; such fields can be re-computed on the fly or stored on-chip."
   ],
   "metadata": {}
  },
  {
   "cell_type": "markdown",
   "source": [
    "### Why it is cool"
   ],
   "metadata": {
    "name": "A slide ",
    "slideshow": {
     "slide_type": "slide"
    }
   }
  },
  {
   "cell_type": "markdown",
   "source": [
    "![julia-gpu](./figures/julia-gpu.png)"
   ],
   "metadata": {
    "name": "A slide ",
    "slideshow": {
     "slide_type": "fragment"
    }
   }
  },
  {
   "cell_type": "markdown",
   "source": [
    "#### GPU are cool\n",
    "Price vs Performance\n",
    "- Close to **1TB/s** memory throughput (here on nonlinear diffusion SIA)\n",
    "\n",
    "![perf_gpu](./figures/perf_gpu.png)\n",
    "\n",
    "_And one can get there_"
   ],
   "metadata": {
    "name": "A slide ",
    "slideshow": {
     "slide_type": "slide"
    }
   }
  },
  {
   "cell_type": "markdown",
   "source": [
    "Availability (less fight for resources)\n",
    "- Still not many applications run on GPUs\n",
    "\n",
    "Workstation turns into a personal Supercomputers\n",
    "- GPU vs CPUs peak memory bandwidth: theoretical 10x (practically maybe more)\n",
    "\n",
    "![titan_node](./figures/titan_node.jpg)"
   ],
   "metadata": {
    "name": "A slide ",
    "slideshow": {
     "slide_type": "slide"
    }
   }
  },
  {
   "cell_type": "markdown",
   "source": [
    "#### Julia is cool\n",
    "Solution to the \"two-language problem\"\n",
    "\n",
    "![two_lang](./figures/two_lang.png)\n",
    "\n",
    "Single code for prototyping and production"
   ],
   "metadata": {
    "name": "A slide ",
    "slideshow": {
     "slide_type": "slide"
    }
   }
  },
  {
   "cell_type": "markdown",
   "source": [
    "Backend agnostic:\n",
    "- Single code to run on single CPU or thousands of GPUs\n",
    "- Single code to run on various CPUs (x86, ARM, Power9, ...) \\\n",
    "  and GPUs (Nvidia, AMD, Intel?)\n",
    "\n",
    "Interactive:\n",
    "- No need for third-party visualisation software\n",
    "- Debugging and interactive REPL mode\n",
    "- Efficient for development"
   ],
   "metadata": {
    "name": "A slide ",
    "slideshow": {
     "slide_type": "slide"
    }
   }
  },
  {
   "cell_type": "markdown",
   "source": [
    "too good to be true?"
   ],
   "metadata": {
    "name": "A slide ",
    "slideshow": {
     "slide_type": "slide"
    }
   }
  },
  {
   "cell_type": "markdown",
   "source": [
    "![ParallelStencil](./figures/parallelstencil.png)"
   ],
   "metadata": {
    "name": "A slide ",
    "slideshow": {
     "slide_type": "fragment"
    }
   }
  },
  {
   "cell_type": "markdown",
   "source": [
    "[https://github.com/omlins/ParallelStencil.jl](https://github.com/omlins/ParallelStencil.jl)"
   ],
   "metadata": {
    "name": "A slide ",
    "slideshow": {
     "slide_type": "fragment"
    }
   }
  },
  {
   "cell_type": "markdown",
   "source": [
    "## Let's get started with a concise demo using [ParallelStencil.jl](https://github.com/omlins/ParallelStencil.jl)"
   ],
   "metadata": {
    "name": "A slide ",
    "slideshow": {
     "slide_type": "slide"
    }
   }
  },
  {
   "cell_type": "markdown",
   "source": [
    "We will now continue in the notebook you can freely fetch on GitHub at [https://github.com/luraess/julia-day-2022](https://github.com/luraess/julia-day-2022)"
   ],
   "metadata": {
    "name": "A slide ",
    "slideshow": {
     "slide_type": "fragment"
    }
   }
  },
  {
   "cell_type": "markdown",
   "source": [
    "In the notebook, activate the environment:"
   ],
   "metadata": {
    "name": "A slide ",
    "slideshow": {
     "slide_type": "slide"
    }
   }
  },
  {
   "outputs": [],
   "cell_type": "code",
   "source": [
    "using Pkg\n",
    "Pkg.activate(@__DIR__)\n",
    "Pkg.instantiate()"
   ],
   "metadata": {},
   "execution_count": null
  }
 ],
 "nbformat_minor": 3,
 "metadata": {
  "language_info": {
   "file_extension": ".jl",
   "mimetype": "application/julia",
   "name": "julia",
   "version": "1.7.2"
  },
  "kernelspec": {
   "name": "julia-1.7",
   "display_name": "Julia 1.7.2",
   "language": "julia"
  }
 },
 "nbformat": 4
}
